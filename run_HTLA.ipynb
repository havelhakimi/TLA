{
  "nbformat": 4,
  "nbformat_minor": 0,
  "metadata": {
    "colab": {
      "provenance": [],
      "gpuType": "T4"
    },
    "kernelspec": {
      "name": "python3",
      "display_name": "Python 3"
    },
    "language_info": {
      "name": "python"
    },
    "accelerator": "GPU"
  },
  "cells": [
    {
      "cell_type": "markdown",
      "source": [
        "[![Open In Colab](https://colab.research.google.com/assets/colab-badge.svg)](https://colab.research.google.com/github/havel_hakimi/TLA/blob/main/Run_HTLA.ipynb)\n"
      ],
      "metadata": {
        "id": "kTGdDlF4K8kE"
      }
    },
    {
      "cell_type": "markdown",
      "source": [
        "# Install dependencies"
      ],
      "metadata": {
        "id": "KspdWOwx1VGf"
      }
    },
    {
      "cell_type": "code",
      "execution_count": null,
      "metadata": {
        "id": "e6eMTE6OJ4cl"
      },
      "outputs": [],
      "source": [
        "! pip install transformers"
      ]
    },
    {
      "cell_type": "markdown",
      "source": [
        "# Clone the repository"
      ],
      "metadata": {
        "id": "hyOaeSXh1ZBs"
      }
    },
    {
      "cell_type": "code",
      "source": [
        "! git clone https://github.com/havelhakimi/TLA.git"
      ],
      "metadata": {
        "id": "MBCVv48gJ_wf"
      },
      "execution_count": null,
      "outputs": []
    },
    {
      "cell_type": "markdown",
      "source": [
        "# Change the working directory to TLA"
      ],
      "metadata": {
        "id": "0P2U7iyp1c_U"
      }
    },
    {
      "cell_type": "code",
      "source": [
        "import os\n",
        "\n",
        "os.chdir('/content/TLA')"
      ],
      "metadata": {
        "id": "L_vVmM1OKACa"
      },
      "execution_count": 3,
      "outputs": []
    },
    {
      "cell_type": "markdown",
      "source": [
        "# Script to run our HTLA model\n",
        "* we have used fixed random seed with value 3"
      ],
      "metadata": {
        "id": "Sq6LDfgy1kWJ"
      }
    },
    {
      "cell_type": "code",
      "source": [
        "! python train.py --name='ckp_htla' --seed 3 --batch 10 --data='wos' --graph 1 --graph_type='GPTrans' --edge_dim 30 --tla 1 --tl_temp 0.07 --device cuda"
      ],
      "metadata": {
        "id": "faoxoJDdKLwj"
      },
      "execution_count": null,
      "outputs": []
    },
    {
      "cell_type": "markdown",
      "source": [
        "Some Important arguments: </br>\n",
        "- `--name` name of directory in which your model will be saved. For e.g. the above model will be saved in `./TLA/data/wos/ckp_bert`\n",
        "- `--data` name of dataset directory which contains your data and related files\n",
        "- `--graph` whether to use graph encoder\n",
        "- `--graph_type` type of graph encoder. Possible choices are 'GCN, 'GAT', 'graphormer' and 'GPTrans'. HTLA uses GPTrans as the graph encoder\n",
        "- `--edge_dim` edge feature size for GPTrans (We use 30 as edge feature size for each dataset )\n",
        "- `--tla` whether Text-Label Alignment (TLA) Loss required or not. If set to 0, the model will be optimized only on BCE loss, which we refer to as BERT-GPTrans in the paper.\n",
        "- `--tl_temp` Temperature value for the TLA loss (We use 0.07 as the temp. value for all datasets)\n",
        "- `--device` set as 'cpu' or 'cuda' for running on CPU/GPU device"
      ],
      "metadata": {
        "id": "dTH4tvENWU6u"
      }
    },
    {
      "cell_type": "markdown",
      "source": [
        "# In paper we have reported average score of 8 random runs with `--seed=None` or unfixed seeds\n",
        "* In `train.py` set the `--seed=None` for multiple random runs"
      ],
      "metadata": {
        "id": "SNbiO7D015UV"
      }
    },
    {
      "cell_type": "markdown",
      "source": [
        "# Other arguments to tune the results and improve performance scores\n",
        "<i>(We have not used these argumenst have not been used in our paper to avoid complexity due to hyper-parameter tuning)</i>"
      ],
      "metadata": {
        "id": "wYIcqttMmW8Q"
      }
    },
    {
      "cell_type": "markdown",
      "source": [
        "In the train.py the following arguments can be tuned\n",
        "- `--norm`: Set to 1 to normalize embeddings before applying the TLA loss.\n",
        "- `--proj`: Set to 1 to apply a transformation to text and label embeddings before applying the TLA loss. The transformation is an 2-hidden layer FFN given in criterion.py\n",
        "- `--hsize`: size of hidden layer in the transformation\n",
        "- `tl_wt`: Weight of the TLA loss component, which can be tuned within the range (0, 1].\n"
      ],
      "metadata": {
        "id": "tRaT_2tdmXtu"
      }
    },
    {
      "cell_type": "markdown",
      "source": [
        "# The `train.py` can be used to train otehr model variants by setting different arguments."
      ],
      "metadata": {
        "id": "4mInMFlTonVN"
      }
    },
    {
      "cell_type": "markdown",
      "source": [
        "### For BERT (does flat multi-label classification)\n"
      ],
      "metadata": {
        "id": "PoXFkUD7owPL"
      }
    },
    {
      "cell_type": "code",
      "source": [
        "! python train.py --name='ckp_bert' --batch 10 --data='wos' --graph 0 --device cuda"
      ],
      "metadata": {
        "id": "R6vZUaxtpZwG"
      },
      "execution_count": null,
      "outputs": []
    },
    {
      "cell_type": "markdown",
      "source": [
        "###  For BERT+GPTrans without TLA loss; (does Hierarchical Text Classification)\n"
      ],
      "metadata": {
        "id": "7idM7W4To0m1"
      }
    },
    {
      "cell_type": "code",
      "source": [
        "!python train.py --name='ckp_bertgptrans' --batch 10 --data='wos' --graph 1 --graph_type='GPTrans' --edge_dim 30 --tla 0"
      ],
      "metadata": {
        "id": "nMl2rE9kpmBJ"
      },
      "execution_count": null,
      "outputs": []
    },
    {
      "cell_type": "code",
      "source": [],
      "metadata": {
        "id": "BMbVRnUAppPz"
      },
      "execution_count": null,
      "outputs": []
    }
  ]
}